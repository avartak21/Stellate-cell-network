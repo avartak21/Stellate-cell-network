{
 "cells": [
  {
   "cell_type": "code",
   "execution_count": 2,
   "metadata": {},
   "outputs": [],
   "source": [
    "from neuron import h\n",
    "from neuron.units import ms,mV\n",
    "from cell import Cell\n",
    "h.load_file('stdrun.hoc')\n",
    "import matplotlib.pyplot as plt\n",
    "\n",
    "class Interneuron(Cell):\n",
    "    name = 'Interneuron'\n",
    "    def _set_morphology(self):\n",
    "        self.soma = h.Section(name='soma', cell=self)\n",
    "        self.soma.L=self.soma.diam = 10"
   ]
  },
  {
   "cell_type": "code",
   "execution_count": 3,
   "metadata": {},
   "outputs": [],
   "source": [
    "from cell import Cell\n",
    "class Interneuron(Cell):\n",
    "    name = 'Interneuron'\n",
    "    def _set_morphology(self):\n",
    "        self.soma = h.Section(name='soma', cell=self)\n",
    "        self.soma.L=self.soma.diam = 10\n",
    "    def _set_biophysics(self):\n",
    "\n",
    "        for sec in self.all:\n",
    "            sec.Ra = 100\n",
    "            sec.cm = 1.5\n",
    "            \n",
    "        "
   ]
  },
  {
   "cell_type": "code",
   "execution_count": 4,
   "metadata": {},
   "outputs": [],
   "source": [
    "cell1 = Interneuron (0,0,0,0,0)"
   ]
  },
  {
   "cell_type": "code",
   "execution_count": 5,
   "metadata": {},
   "outputs": [],
   "source": [
    "cell1.soma.insert('interneuron_mech')\n",
    "\n",
    "stim = h.IClamp(cell1.soma(0.5)) #change as per the requirement\n",
    "stim.amp = 1\n",
    "stim.dur = 500\n",
    "stim.delay = 0\n"
   ]
  },
  {
   "cell_type": "code",
   "execution_count": 5,
   "metadata": {},
   "outputs": [],
   "source": [
    "v1 = h.Vector().record(cell1.soma(0.9)._ref_v)\n",
    "t = h.Vector().record(h._ref_t)"
   ]
  },
  {
   "cell_type": "code",
   "execution_count": 6,
   "metadata": {},
   "outputs": [
    {
     "data": {
      "text/plain": [
       "0.0"
      ]
     },
     "execution_count": 6,
     "metadata": {},
     "output_type": "execute_result"
    }
   ],
   "source": [
    "h.finitialize(-55)\n",
    "h.continuerun(500)"
   ]
  },
  {
   "cell_type": "code",
   "execution_count": 7,
   "metadata": {},
   "outputs": [
    {
     "data": {
      "text/plain": [
       "<matplotlib.legend.Legend at 0x1cd65037c40>"
      ]
     },
     "execution_count": 7,
     "metadata": {},
     "output_type": "execute_result"
    },
    {
     "data": {
      "image/png": "[encoded data removed]",
      "text/plain": [
       "<Figure size 864x360 with 1 Axes>"
      ]
     },
     "metadata": {
      "needs_background": "light"
     },
     "output_type": "display_data"
    }
   ],
   "source": [
    "fig1 = plt.figure(figsize=(12,5))\n",
    "ax1 = fig1.add_subplot(1,1,1)\n",
    "p1 = ax1.plot(t,v1,color='black',label='var')\n",
    "ax1.set_xlabel = 'ms'\n",
    "ax1.set_ylabel('mV')\n",
    "fig1.legend()"
   ]
  },
  {
   "cell_type": "code",
   "execution_count": null,
   "metadata": {},
   "outputs": [],
   "source": []
  }
 ],
 "metadata": {
  "kernelspec": {
   "display_name": "Python 3",
   "language": "python",
   "name": "python3"
  },
  "language_info": {
   "codemirror_mode": {
    "name": "ipython",
    "version": 3
   },
   "file_extension": ".py",
   "mimetype": "text/x-python",
   "name": "python",
   "nbconvert_exporter": "python",
   "pygments_lexer": "ipython3",
   "version": "3.8.3"
  }
 },
 "nbformat": 4,
 "nbformat_minor": 4
}
